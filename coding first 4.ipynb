{
 "cells": [
  {
   "cell_type": "code",
   "execution_count": 99,
   "metadata": {},
   "outputs": [
    {
     "name": "stdout",
     "output_type": "stream",
     "text": [
      "hello world\n"
     ]
    }
   ],
   "source": [
    "print(\"hello world\")\n",
    "# this is a comment"
   ]
  },
  {
   "cell_type": "code",
   "execution_count": null,
   "metadata": {},
   "outputs": [
    {
     "name": "stdout",
     "output_type": "stream",
     "text": [
      "Evelyn Olunwa\n"
     ]
    }
   ],
   "source": [
    "#Exercise 1\n",
    "my_name=(\"Evelyn Olunwa\")\n",
    "print(my_name)"
   ]
  },
  {
   "cell_type": "code",
   "execution_count": 5,
   "metadata": {},
   "outputs": [
    {
     "name": "stdout",
     "output_type": "stream",
     "text": [
      "39\n"
     ]
    }
   ],
   "source": [
    "# Exercise 2\n",
    "age=39\n",
    "print(age)"
   ]
  },
  {
   "cell_type": "code",
   "execution_count": 6,
   "metadata": {},
   "outputs": [
    {
     "name": "stdout",
     "output_type": "stream",
     "text": [
      "-7\n"
     ]
    }
   ],
   "source": [
    "#Exercise 3\n",
    "julia_age = 32\n",
    "age_diff = julia_age - age\n",
    "print((julia_age) - age)"
   ]
  },
  {
   "cell_type": "code",
   "execution_count": 7,
   "metadata": {},
   "outputs": [
    {
     "name": "stdout",
     "output_type": "stream",
     "text": [
      "you are older than 21\n"
     ]
    }
   ],
   "source": [
    "#Exercise 4\n",
    "if age==21:True\n",
    "elif age!=21:\n",
    "            print(\"you are older than 21\")"
   ]
  },
  {
   "cell_type": "code",
   "execution_count": 8,
   "metadata": {},
   "outputs": [
    {
     "name": "stdout",
     "output_type": "stream",
     "text": [
      "You are older than Julia\n"
     ]
    }
   ],
   "source": [
    "# Exercise 5\n",
    "age=39\n",
    "if age < 32:\n",
    "        print( \"Julia is younger than you\")\n",
    "elif age==32:\n",
    "        print(\"You have the same age as Julia\")\n",
    "else:\n",
    "    print(\"You are older than Julia\")"
   ]
  },
  {
   "cell_type": "code",
   "execution_count": 10,
   "metadata": {},
   "outputs": [
    {
     "name": "stdout",
     "output_type": "stream",
     "text": [
      "chris\n",
      "Virginia\n",
      "chris\n",
      "Evelyn\n",
      "Jessica\n",
      "ottavia\n",
      "Sylvia\n",
      "Tanusree\n",
      "Virginia\n"
     ]
    }
   ],
   "source": [
    "#Exercise 6\n",
    "class_names=[\"chris\", \"Evelyn\",\"Jessica\",\"ottavia\", \"Sylvia\",\"Tanusree\",\"Virginia\"]\n",
    "first_name=(\"chris\")\n",
    "print(first_name)\n",
    "\n",
    "last_name=(\"Virginia\")\n",
    "print (last_name)\n",
    "\n",
    "\n",
    "for name in class_names:\n",
    "        print(name)"
   ]
  },
  {
   "cell_type": "code",
   "execution_count": 87,
   "metadata": {},
   "outputs": [
    {
     "name": "stdout",
     "output_type": "stream",
     "text": [
      "25\n",
      "36\n",
      "31\n",
      "24\n",
      "41\n",
      "38\n",
      "29\n"
     ]
    }
   ],
   "source": [
    "#Exercise 7\n",
    "class_age = [25,36,31,24,41,38,29]\n",
    "\n",
    "for age in class_age:\n",
    "        print( age )\n"
   ]
  },
  {
   "cell_type": "code",
   "execution_count": 1,
   "metadata": {},
   "outputs": [
    {
     "name": "stdout",
     "output_type": "stream",
     "text": [
      "36\n",
      "24\n",
      "38\n"
     ]
    }
   ],
   "source": [
    "class_age= [25,36,31,24,41,38,29]\n",
    "for x in class_age:\n",
    "      if x % 2==0:\n",
    "        print ( x )"
   ]
  },
  {
   "cell_type": "code",
   "execution_count": 21,
   "metadata": {},
   "outputs": [
    {
     "name": "stdout",
     "output_type": "stream",
     "text": [
      "99\n",
      "3\n"
     ]
    }
   ],
   "source": [
    "#Exercise 8&9\n",
    "counting= [99,3,5,22,98,6,82,26,16,27,35,65,28,12,82,15]\n",
    "for a in counting:\n",
    "    if a< 5:\n",
    "        print(a)\n",
    "    elif a>98:\n",
    "        print (a)"
   ]
  },
  {
   "cell_type": "code",
   "execution_count": 65,
   "metadata": {},
   "outputs": [
    {
     "name": "stdout",
     "output_type": "stream",
     "text": [
      "1999\n",
      "23\n",
      "1995\n",
      "27\n",
      "2005\n",
      "17\n",
      "2010\n",
      "12\n",
      "2007\n",
      "15\n",
      "2006\n",
      "16\n",
      "1994\n",
      "28\n",
      "1996\n",
      "26\n",
      "1979\n",
      "43\n",
      "2008\n",
      "14\n"
     ]
    }
   ],
   "source": [
    "#Exercise 10\n",
    "from datetime import date\n",
    "birth_year= [1999, 1995, 2005, 2010, 2007, 2006, 1994, 1996, 1979, 2008]\n",
    "birth_year_2= [1999, 1995, 2005, 2010, 2007, 2006, 1994, 1996, 1979, 2008]\n",
    "now= 2022\n",
    "\n",
    "def calculate_age(birth_year, now):\n",
    "    \n",
    "    for year in birth_year:\n",
    "        print(year)\n",
    "        age = (now - year)\n",
    "        print(age)\n",
    "        \n",
    "    #calculate_age = (now - birth_year)\n",
    "    #print (calculate_age)\n",
    "\n",
    "calculate_age(birth_year, now)\n",
    "#calculate_age(birth_year_2)"
   ]
  },
  {
   "cell_type": "code",
   "execution_count": 21,
   "metadata": {},
   "outputs": [
    {
     "name": "stdout",
     "output_type": "stream",
     "text": [
      "('Bob', 23)\n",
      "('Jack', 27)\n",
      "('Lisa', 17)\n",
      "('Maria', 12)\n",
      "('Ben', 15)\n",
      "('Emma', 16)\n",
      "('Oscar', 28)\n",
      "('Amy', 26)\n",
      "('Paul', 43)\n",
      "('Etta', 14)\n"
     ]
    }
   ],
   "source": [
    "#Exercise 11\n",
    "customer_list = [\n",
    "                    {\"name\": \"Bob\", \"age\": 1999},\n",
    "                    {\"name\": \"Jack\", \"age\": 1995},\n",
    "                    {\"name\": \"Lisa\", \"age\": 2005},\n",
    "                    {\"name\": \"Maria\", \"age\": 2010},\n",
    "                    {\"name\": \"Ben\", \"age\": 2007},\n",
    "                    {\"name\": \"Emma\", \"age\": 2006},\n",
    "                    {\"name\": \"Oscar\", \"age\": 1994},\n",
    "                    {\"name\": \"Amy\", \"age\": 1996},\n",
    "                    {\"name\": \"Paul\", \"age\": 1979},\n",
    "                    {\"name\": \"Etta\", \"age\": 2008}\n",
    "                ]\n",
    "for x in customer_list:\n",
    "        print(f\"{x['name'],2022-x['age'] }\")\n",
    "        \n",
    "        "
   ]
  },
  {
   "cell_type": "code",
   "execution_count": 86,
   "metadata": {},
   "outputs": [
    {
     "name": "stdout",
     "output_type": "stream",
     "text": [
      "20\n",
      "24\n",
      "14\n",
      "12\n",
      "13\n",
      "25\n",
      "23\n",
      "11\n"
     ]
    }
   ],
   "source": [
    "#Exercise 12\n",
    "ages = [20, 24, 14, 9, 12, 13, 25, 23, 40, 11]\n",
    "for x in ages:\n",
    "    if 10<x<40 :\n",
    "        print (x)\n",
    "        \n",
    "\n"
   ]
  },
  {
   "cell_type": "code",
   "execution_count": 2,
   "metadata": {},
   "outputs": [
    {
     "name": "stdout",
     "output_type": "stream",
     "text": [
      "[15, 13, 16, 18, 19, 10]\n"
     ]
    }
   ],
   "source": [
    "#Exercise 13\n",
    "berlin = [15, 13, 16, 18, 19, 10, 12 ]\n",
    "munich = [7, 13, 15, 20, 19, 18, 10, 16]\n",
    "def common_elements(berlin,munich):\n",
    "    result=[]\n",
    "    for element in berlin:\n",
    "        if element in munich:\n",
    "         result.append(element)\n",
    "    print (result)\n",
    "\n",
    "common_elements(berlin,munich)\n"
   ]
  },
  {
   "cell_type": "code",
   "execution_count": 3,
   "metadata": {},
   "outputs": [
    {
     "name": "stdout",
     "output_type": "stream",
     "text": [
      "[15, 13, 16, 18, 19, 10]\n"
     ]
    }
   ],
   "source": [
    "#Exercise 14\n",
    "rain= [15,13,16,18,19,15,10]\n",
    "result=[]\n",
    "for x in rain:\n",
    "    if x not in result:\n",
    "        result.append(x)\n",
    "print( str(result))"
   ]
  },
  {
   "cell_type": "code",
   "execution_count": 73,
   "metadata": {},
   "outputs": [
    {
     "name": "stdout",
     "output_type": "stream",
     "text": [
      "Welcome Evelyn have a nice day\n"
     ]
    }
   ],
   "source": [
    "#welcome funtion\n",
    "#Exercise 15\n",
    "def welcome(fname):\n",
    "    \n",
    "    print('Welcome',fname +  ' have a nice day')\n",
    "\n",
    "    \n",
    "welcome('Evelyn') "
   ]
  },
  {
   "cell_type": "code",
   "execution_count": 4,
   "metadata": {},
   "outputs": [
    {
     "data": {
      "text/plain": [
       "9"
      ]
     },
     "execution_count": 4,
     "metadata": {},
     "output_type": "execute_result"
    }
   ],
   "source": [
    "#Exercise 16\n",
    "from collections import Counter\n",
    "def get_lenght(my_string):\n",
    "    my_string= input('type a greeting')\n",
    "    counter= Counter(my_string)\n",
    "    print(counter) \n",
    "\n",
    "\n",
    "len( 'my_string')"
   ]
  },
  {
   "cell_type": "code",
   "execution_count": 54,
   "metadata": {},
   "outputs": [
    {
     "name": "stdout",
     "output_type": "stream",
     "text": [
      "YES\n"
     ]
    }
   ],
   "source": [
    "#Exercise 17\n",
    "check_even = int(input ('enter a number'))\n",
    "mod= check_even % 2\n",
    "if mod==0:\n",
    "    print ('YES')\n",
    "\n",
    "else:\n",
    "        print('NO')\n",
    "        \n",
    "    "
   ]
  },
  {
   "cell_type": "code",
   "execution_count": 70,
   "metadata": {},
   "outputs": [
    {
     "name": "stdout",
     "output_type": "stream",
     "text": [
      "false\n"
     ]
    }
   ],
   "source": [
    "#Exercise 19\n",
    "age= [43,53,98,73,22,35,12,9,67,34,18,70,90]\n",
    "value= int(input('enter a num'))\n",
    "while value in age:\n",
    "    print('true')\n",
    "\n",
    "else:\n",
    "    print ('false')"
   ]
  },
  {
   "cell_type": "code",
   "execution_count": null,
   "metadata": {},
   "outputs": [],
   "source": []
  }
 ],
 "metadata": {
  "interpreter": {
   "hash": "b0f08f867194a598754aaf810ca3db632ea94e9c9419b724fa4db55b86a9e1ac"
  },
  "kernelspec": {
   "display_name": "Python 3.9.12 ('base')",
   "language": "python",
   "name": "python3"
  },
  "language_info": {
   "codemirror_mode": {
    "name": "ipython",
    "version": 3
   },
   "file_extension": ".py",
   "mimetype": "text/x-python",
   "name": "python",
   "nbconvert_exporter": "python",
   "pygments_lexer": "ipython3",
   "version": "3.9.12"
  },
  "orig_nbformat": 4
 },
 "nbformat": 4,
 "nbformat_minor": 2
}
