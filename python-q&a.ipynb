{
 "cells": [
  {
   "cell_type": "code",
   "execution_count": null,
   "metadata": {},
   "outputs": [],
   "source": [
    "guest_list_1 = [\"Ottavia\", \"Virginia\", \"Chris\", \"Jessica\"]\n",
    "\n",
    "def check_guest_list(person, tonight_guest_list):\n",
    "    for guest in tonight_guest_list:\n",
    "        if person == guest:\n",
    "            print(person + \" you can come in!\")\n",
    "            break\n",
    "        else:\n",
    "            print(person + \" not tonight\")\n",
    "            break\n",
    "check_guest_list(\"Jost\", guest_list_1)\n"
   ]
  },
  {
   "cell_type": "code",
   "execution_count": null,
   "metadata": {},
   "outputs": [],
   "source": [
    "def check_guest_list(person, tonight_guest_list):\n",
    "    while person in tonight_guest_list:\n",
    "        # print(person + \" you can come in!\")\n",
    "        result = person + \" you can come in!\"\n",
    "        return result\n",
    "        break\n",
    "    else:\n",
    "        # print(person + \" not tonight\")\n",
    "        result = person + \" not tonight\"\n",
    "        return result\n",
    "final_result = check_guest_list(\"Ottavia\", guest_list_1)\n",
    "\n",
    "\n"
   ]
  },
  {
   "cell_type": "code",
   "execution_count": null,
   "metadata": {},
   "outputs": [],
   "source": [
    "def communicate_decision():\n",
    "    print(final_result)\n",
    "\n",
    "\n",
    "communicate_decision()\n"
   ]
  },
  {
   "cell_type": "code",
   "execution_count": null,
   "metadata": {},
   "outputs": [],
   "source": [
    "guest_list_2 = [\"Virginia\", \"Chris\", \"Jessica\"]\n",
    "check_guest_list(\"Jost\", guest_list_2)\n"
   ]
  },
  {
   "cell_type": "code",
   "execution_count": null,
   "metadata": {},
   "outputs": [],
   "source": [
    "fruits = [\"apple\", \"banana\", \"lemon\", \"kiwi\"]\n",
    "\n",
    "new_list = []\n",
    "\n",
    "for fruit in fruits:\n",
    "    if \"a\" in fruit:\n",
    "        new_list.append(fruit)\n",
    "\n",
    "print(new_list)\n"
   ]
  },
  {
   "cell_type": "code",
   "execution_count": null,
   "metadata": {},
   "outputs": [],
   "source": [
    "new_list_2 = [fruit.upper() for fruit in fruits if \"a\" in fruit]\n",
    "new_list_2\n"
   ]
  },
  {
   "cell_type": "code",
   "execution_count": null,
   "metadata": {},
   "outputs": [],
   "source": [
    "car = {\n",
    "    \"brand\": \"Ford\",\n",
    "    \"color\": \"red wine\",\n",
    "    \"year\": 1999\n",
    "}\n",
    "\n",
    "car[\"year\"]\n"
   ]
  },
  {
   "cell_type": "code",
   "execution_count": null,
   "metadata": {},
   "outputs": [],
   "source": [
    "for key in car:\n",
    "    print(key)\n",
    "    print(car[key])\n"
   ]
  },
  {
   "cell_type": "code",
   "execution_count": null,
   "metadata": {},
   "outputs": [],
   "source": [
    "car.items()\n"
   ]
  },
  {
   "cell_type": "code",
   "execution_count": null,
   "metadata": {},
   "outputs": [],
   "source": [
    "for key, value in car.items():\n",
    "    print(key, '->', value)\n"
   ]
  },
  {
   "cell_type": "code",
   "execution_count": null,
   "metadata": {},
   "outputs": [],
   "source": [
    "customer_list = [\n",
    "    {\"name\": \"Bob\", \"year\": 1999},\n",
    "    {\"name\": \"Jack\", \"year\": 1995},\n",
    "    {\"name\": \"Lisa\", \"year\": 2005},\n",
    "    {\"name\": \"Maria\", \"year\": 2010},\n",
    "    {\"name\": \"Ben\", \"year\": 2007},\n",
    "    {\"name\": \"Emma\", \"year\": 2006},\n",
    "    {\"name\": \"Oscar\", \"year\": 1994},\n",
    "    {\"name\": \"Amy\", \"year\": 1996},\n",
    "    {\"name\": \"Paul\", \"year\": 1979},\n",
    "    {\"name\": \"Etta\", \"year\": 2008}\n",
    "]\n",
    "\n",
    "\n",
    "\n"
   ]
  },
  {
   "cell_type": "code",
   "execution_count": null,
   "metadata": {},
   "outputs": [],
   "source": [
    "for customer in customer_list:\n",
    "    print(customer[\"name\"])\n",
    "    print(2022 - customer[\"year\"])"
   ]
  },
  {
   "cell_type": "code",
   "execution_count": null,
   "metadata": {},
   "outputs": [],
   "source": [
    "person_1 = {\n",
    "    \"name\": \"Ottavia\",\n",
    "    \"pets\": [\"pet 1\", \"pet 2\"],\n",
    "    \"hasGlasses\": True\n",
    "}\n",
    "\n",
    "person_2 = {\n",
    "    \"name\": \"Chris\",\n",
    "    \"pets\": [\"Norman\", \"Lucy\"],\n",
    "    \"hasGlasses\": True\n",
    "}\n",
    "\n",
    "person_3 = {\n",
    "    \"name\": \"Jessica\",\n",
    "    \"pets\": [\"Ludovico\", \"Snail2\", \"Snail3\"],\n",
    "    \"hasGlasses\": False\n",
    "}\n",
    "\n",
    "\n",
    "list_of_people = [person_1, person_2, person_3]\n"
   ]
  },
  {
   "cell_type": "code",
   "execution_count": null,
   "metadata": {},
   "outputs": [],
   "source": [
    "list_of_people\n"
   ]
  },
  {
   "cell_type": "code",
   "execution_count": null,
   "metadata": {},
   "outputs": [],
   "source": [
    "for person in list_of_people:\n",
    "    # print(person[\"pets\"])\n",
    "    print(\"Owner: \", person[\"name\"])\n",
    "    for pet in person[\"pets\"]:\n",
    "        # print(\"Owner: \", person[\"name\"])\n",
    "        print(pet)\n"
   ]
  },
  {
   "cell_type": "code",
   "execution_count": 105,
   "metadata": {},
   "outputs": [
    {
     "name": "stdout",
     "output_type": "stream",
     "text": [
      "1\n",
      "eat\n",
      "2\n",
      "sleep\n",
      "3\n",
      "repeat\n"
     ]
    }
   ],
   "source": [
    "\n",
    "#python\n",
    "# Python program to illustrate\n",
    "# enumerate function\n",
    "l1 = [\"eat\", \"sleep\", \"repeat\"]\n",
    "\n",
    "#getting desired output from tuple\n",
    "for count, ele in enumerate(l1, 1):\n",
    "  print(count)\n",
    "  print(ele)\n",
    "\n",
    "\n"
   ]
  },
  {
   "cell_type": "code",
   "execution_count": 108,
   "metadata": {},
   "outputs": [
    {
     "data": {
      "text/plain": [
       "'sleep'"
      ]
     },
     "execution_count": 108,
     "metadata": {},
     "output_type": "execute_result"
    }
   ],
   "source": [
    "len(l1)\n",
    "l1[2 - 1]"
   ]
  },
  {
   "cell_type": "code",
   "execution_count": 116,
   "metadata": {},
   "outputs": [
    {
     "name": "stdout",
     "output_type": "stream",
     "text": [
      "78\n",
      "74\n"
     ]
    }
   ],
   "source": [
    "ages = [1, 5, 78, 3, 74]\n",
    "i = 0\n",
    "while i in range(len(ages)):\n",
    "    # print(i)\n",
    "    \n",
    "    if ages[i]%2 == 0:\n",
    "        print(ages[i])\n",
    "    i+=1\n"
   ]
  }
 ],
 "metadata": {
  "interpreter": {
   "hash": "b1875529cefe42ecd6a8c244c5d3382570dbd3583e24ee890d745390ff6ff538"
  },
  "kernelspec": {
   "display_name": "Python 3.9.7 64-bit ('base': conda)",
   "language": "python",
   "name": "python3"
  },
  "language_info": {
   "codemirror_mode": {
    "name": "ipython",
    "version": 3
   },
   "file_extension": ".py",
   "mimetype": "text/x-python",
   "name": "python",
   "nbconvert_exporter": "python",
   "pygments_lexer": "ipython3",
   "version": "3.9.7"
  },
  "orig_nbformat": 4
 },
 "nbformat": 4,
 "nbformat_minor": 2
}
